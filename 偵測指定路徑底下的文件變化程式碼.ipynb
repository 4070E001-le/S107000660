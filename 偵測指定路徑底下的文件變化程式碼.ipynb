{
  "nbformat": 4,
  "nbformat_minor": 0,
  "metadata": {
    "colab": {
      "name": "Untitled16.ipynb",
      "provenance": [],
      "authorship_tag": "ABX9TyNC+sFHp5DvjzQkfh+sHHdM",
      "include_colab_link": true
    },
    "kernelspec": {
      "name": "python3",
      "display_name": "Python 3"
    },
    "language_info": {
      "name": "python"
    }
  },
  "cells": [
    {
      "cell_type": "markdown",
      "metadata": {
        "id": "view-in-github",
        "colab_type": "text"
      },
      "source": [
        "<a href=\"https://colab.research.google.com/github/4070E001-le/S107000660-/blob/main/%E5%81%B5%E6%B8%AC%E6%8C%87%E5%AE%9A%E8%B7%AF%E5%BE%91%E5%BA%95%E4%B8%8B%E7%9A%84%E6%96%87%E4%BB%B6%E8%AE%8A%E5%8C%96%E7%A8%8B%E5%BC%8F%E7%A2%BC.ipynb\" target=\"_parent\"><img src=\"https://colab.research.google.com/assets/colab-badge.svg\" alt=\"Open In Colab\"/></a>"
      ]
    },
    {
      "cell_type": "code",
      "execution_count": null,
      "metadata": {
        "id": "JGIzGCVqlXyv"
      },
      "outputs": [],
      "source": [
        "import pyinotify\n",
        "\n",
        "class MyEventHandler(pyinotify.ProcessEvent):\n",
        "\n",
        "    def process_IN_ACCESS(self, event):\n",
        "        print(\"ACCESS event:\", event.pathname)\n",
        "\n",
        "    def process_IN_ATTRIB(self, event):\n",
        "        print(\"ATTRIB event:\", event.pathname)\n",
        "\n",
        "    def process_IN_CLOSE_NOWRITE(self, event):\n",
        "        print(\"CLOSE_NOWRITE event:\", event.pathname)\n",
        "\n",
        "    def process_IN_CLOSE_WRITE(self, event):\n",
        "        print(\"CLOSE_WRITE event:\", event.pathname)\n",
        "\n",
        "    def process_IN_CREATE(self, event):\n",
        "        print(\"CREATE event:\", event.pathname)\n",
        "\n",
        "    def process_IN_DELETE(self, event):\n",
        "        print(\"DELETE event:\", event.pathname)\n",
        "\n",
        "    def process_IN_MODIFY(self, event):\n",
        "        print(\"MODIFY event:\", event.pathname)\n",
        "\n",
        "    def process_IN_OPEN(self, event):\n",
        "        print(\"OPEN event:\", event.pathname)\n",
        "\n",
        "\n",
        "if __name__ == '__main__':\n",
        "\n",
        "    # To specify two or more events codes just orize them\n",
        "    # pyinotify_flags = pyinotify.IN_CREATE | pyinotify.IN_DELETE | pyinotify.IN_MODIFY \n",
        "    # Or if you want to be notified for all events just use this shortcut\n",
        "    pyinotify_flags = pyinotify.ALL_EVENTS\n",
        "\n",
        "    # watch manager\n",
        "    wm = pyinotify.WatchManager()\n",
        "    watch_path = '/home/ubuntu/Desktop/'\n",
        "    wm.add_watch(watch_path, pyinotify_flags, rec=True) # rec = recursive\n",
        "\n",
        "    # event handler\n",
        "    eh = MyEventHandler()\n",
        "\n",
        "    # notifier\n",
        "    notifier = pyinotify.Notifier(wm, eh)\n",
        "    notifier.loop()"
      ]
    }
  ]
}