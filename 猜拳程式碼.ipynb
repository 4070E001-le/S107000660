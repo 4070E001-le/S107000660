{
  "nbformat": 4,
  "nbformat_minor": 0,
  "metadata": {
    "colab": {
      "name": "Untitled11.ipynb",
      "provenance": [],
      "authorship_tag": "ABX9TyPgmifJ32pgM3Rb/nltooqW",
      "include_colab_link": true
    },
    "kernelspec": {
      "name": "python3",
      "display_name": "Python 3"
    },
    "language_info": {
      "name": "python"
    }
  },
  "cells": [
    {
      "cell_type": "markdown",
      "metadata": {
        "id": "view-in-github",
        "colab_type": "text"
      },
      "source": [
        "<a href=\"https://colab.research.google.com/github/4070E001-le/S107000660-/blob/main/%E7%8C%9C%E6%8B%B3%E7%A8%8B%E5%BC%8F%E7%A2%BC.ipynb\" target=\"_parent\"><img src=\"https://colab.research.google.com/assets/colab-badge.svg\" alt=\"Open In Colab\"/></a>"
      ]
    },
    {
      "cell_type": "code",
      "execution_count": 3,
      "metadata": {
        "colab": {
          "base_uri": "https://localhost:8080/",
          "height": 132
        },
        "id": "JnU8i4aXcCC_",
        "outputId": "46066daf-ce97-47ba-f081-2ec1c0b8f67c"
      },
      "outputs": [
        {
          "output_type": "error",
          "ename": "IndentationError",
          "evalue": "ignored",
          "traceback": [
            "\u001b[0;36m  File \u001b[0;32m\"<ipython-input-3-42d9dc73435b>\"\u001b[0;36m, line \u001b[0;32m19\u001b[0m\n\u001b[0;31m    print \"編號:\",row, '=',dict[row]\u001b[0m\n\u001b[0m        ^\u001b[0m\n\u001b[0;31mIndentationError\u001b[0m\u001b[0;31m:\u001b[0m expected an indented block\n"
          ]
        }
      ],
      "source": [
        "\n",
        "\n",
        "import random,sys\n",
        "\n",
        "\n",
        "\n",
        "dict = {\n",
        "\n",
        "1:'剪子',\n",
        "\n",
        "2:'石頭',\n",
        "\n",
        "3:'布',\n",
        "\n",
        "}\n",
        "\n",
        "for row in dict:\n",
        "\n",
        "print '編號:',row, '=',dict[row]\n",
        "\n",
        "\n",
        "loop = True\n",
        "\n",
        "while loop:\n",
        "\n",
        "print '您出什麼?'\n",
        "\n",
        "you = raw_input('請輸入編號回車:如果想退出遊戲按q鍵').strip()\n",
        "\n",
        "if you == 'q':\n",
        "\n",
        "loop = False\n",
        "\n",
        "print \"友情提示:遊戲將退出,迎下次再玩\"\n",
        "\n",
        "sys.exit()\n",
        "\n",
        "else:\n",
        "\n",
        "try:\n",
        "\n",
        "dn = random.randint(1,3)\n",
        "\n",
        "you = int(you)\n",
        "\n",
        "if you >= 1 and you <= 3:\n",
        "\n",
        "loop = True\n",
        "\n",
        "print '你出:',dict[you]\n",
        "\n",
        "print '電腦出:',dict[dn]\n",
        "\n",
        "print '結果:',\n",
        "\n",
        "if dn == you:\n",
        "\n",
        "print '平局'\n",
        "\n",
        "elif (you > dn and you - dn == 1) or you + 2 == dn:\n",
        "\n",
        "print '你勝'\n",
        "\n",
        "else:\n",
        "\n",
        "print '電腦勝'\n",
        "\n",
        "continue"
      ]
    }
  ]
}