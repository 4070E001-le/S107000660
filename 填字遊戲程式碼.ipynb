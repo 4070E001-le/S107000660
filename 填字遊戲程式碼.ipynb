{
  "nbformat": 4,
  "nbformat_minor": 0,
  "metadata": {
    "colab": {
      "name": "Untitled7.ipynb",
      "provenance": [],
      "authorship_tag": "ABX9TyOcajDGmthFQfhAWPx630Jy",
      "include_colab_link": true
    },
    "kernelspec": {
      "name": "python3",
      "display_name": "Python 3"
    },
    "language_info": {
      "name": "python"
    }
  },
  "cells": [
    {
      "cell_type": "markdown",
      "metadata": {
        "id": "view-in-github",
        "colab_type": "text"
      },
      "source": [
        "<a href=\"https://colab.research.google.com/github/4070E001-le/S107000660-/blob/main/%E5%A1%AB%E5%AD%97%E9%81%8A%E6%88%B2%E7%A8%8B%E5%BC%8F%E7%A2%BC.ipynb\" target=\"_parent\"><img src=\"https://colab.research.google.com/assets/colab-badge.svg\" alt=\"Open In Colab\"/></a>"
      ]
    },
    {
      "cell_type": "code",
      "execution_count": null,
      "metadata": {
        "id": "qG92WxwbY7_X"
      },
      "outputs": [],
      "source": [
        "loop = 1\n",
        "\n",
        "while (loop < 10):\n",
        "\n",
        "    # All the questions that the program asks the user\n",
        "    noun = input(\"Choose a noun: \")\n",
        "    p_noun = input(\"Choose a plural noun: \")\n",
        "    noun2 = input(\"Choose a noun: \")\n",
        "    place = input(\"Name a place: \")\n",
        "    adjective = input(\"Choose an adjective (Describing word): \")\n",
        "    noun3 = input(\"Choose a noun: \")\n",
        "\n",
        "    # Displays the story based on the users input\n",
        "    print (\"------------------------------------------\")\n",
        "    print (\"Be kind to your\",noun,\"- footed\", p_noun)\n",
        "    print (\"For a duck may be somebody's\", noun2,\",\")\n",
        "    print (\"Be kind to your\",p_noun,\"in\",place)\n",
        "    print (\"Where the weather is always\",adjective,\".\")\n",
        "    print ()\n",
        "    print (\"You may think that is this the\",noun3,\",\")\n",
        "    print (\"Well it is.\")\n",
        "    print (\"------------------------------------------\")\n",
        "\n",
        "    # Loop back to \"loop = 1\"\n",
        "    loop = loop + 1"
      ]
    }
  ]
}