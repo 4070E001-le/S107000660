{
  "nbformat": 4,
  "nbformat_minor": 0,
  "metadata": {
    "colab": {
      "name": "Untitled8.ipynb",
      "provenance": [],
      "authorship_tag": "ABX9TyPsOZIfrNXnKdzDcXiqNVmX",
      "include_colab_link": true
    },
    "kernelspec": {
      "name": "python3",
      "display_name": "Python 3"
    },
    "language_info": {
      "name": "python"
    }
  },
  "cells": [
    {
      "cell_type": "markdown",
      "metadata": {
        "id": "view-in-github",
        "colab_type": "text"
      },
      "source": [
        "<a href=\"https://colab.research.google.com/github/4070E001-le/S107000660-/blob/main/%E5%9B%9E%E6%96%87%E5%88%A4%E6%96%B7%E7%A8%8B%E5%BC%8F%E7%A2%BC.ipynb\" target=\"_parent\"><img src=\"https://colab.research.google.com/assets/colab-badge.svg\" alt=\"Open In Colab\"/></a>"
      ]
    },
    {
      "cell_type": "code",
      "execution_count": null,
      "metadata": {
        "id": "ASatLKNZaCMK",
        "colab": {
          "base_uri": "https://localhost:8080/"
        },
        "outputId": "2bcadfb9-79b5-4677-bc74-4d60c0c65b3b"
      },
      "outputs": [
        {
          "output_type": "stream",
          "name": "stdout",
          "text": [
            "\n",
            "Palindrome checker\n"
          ]
        }
      ],
      "source": [
        "def convertInputString():\n",
        "    rawInput = input(\"\\nPlease enter a word, phrase, or a sentence \\nto check if it is a palindrome: \") \n",
        "    rawString = rawInput.lower() \n",
        "    rawList = list(rawString) \n",
        "    return rawList\n",
        "\n",
        "def stripAnalphabetics(dirtyList): \n",
        "    analphabeticList = [\" \", \"-\", \".\", \",\", \":\", \";\", \"!\", \"?\", \"'\", \"\\\"\"] \n",
        "    for character in analphabeticList: \n",
        "        if character in dirtyList: \n",
        "            dirtyList.remove(character) \n",
        "            return stripAnalphabetics(dirtyList)\n",
        "    return dirtyList \n",
        "\n",
        "def runPalindromeCheck(straightList):\n",
        "    reversedList = straightList[::-1] \n",
        "    if reversedList == straightList: \n",
        "        return \"The text you have entered is a palindrome!\" \n",
        "    else: \n",
        "        return \"The text you have entered is not a palindrome.\" \n",
        "\n",
        "def main(): \n",
        "    print(\"\\nPalindrome checker\") \n",
        "    originalList = convertInputString()  \n",
        "    originalList = stripAnalphabetics(originalList) \n",
        "    palindromeCheck = runPalindromeCheck(originalList)\n",
        "    print(palindromeCheck)\n",
        "\n",
        "main() "
      ]
    }
  ]
}