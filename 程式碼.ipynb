{
  "nbformat": 4,
  "nbformat_minor": 0,
  "metadata": {
    "colab": {
      "name": "Untitled14.ipynb",
      "provenance": [],
      "authorship_tag": "ABX9TyMz68a6781DKVXqpDxMmgrK",
      "include_colab_link": true
    },
    "kernelspec": {
      "name": "python3",
      "display_name": "Python 3"
    },
    "language_info": {
      "name": "python"
    }
  },
  "cells": [
    {
      "cell_type": "markdown",
      "metadata": {
        "id": "view-in-github",
        "colab_type": "text"
      },
      "source": [
        "<a href=\"https://colab.research.google.com/github/4070E001-le/S107000660-/blob/main/%E7%A8%8B%E5%BC%8F%E7%A2%BC.ipynb\" target=\"_parent\"><img src=\"https://colab.research.google.com/assets/colab-badge.svg\" alt=\"Open In Colab\"/></a>"
      ]
    },
    {
      "cell_type": "code",
      "execution_count": 1,
      "metadata": {
        "colab": {
          "base_uri": "https://localhost:8080/",
          "height": 132
        },
        "id": "ofpXy--li6CT",
        "outputId": "62dd6c6b-6f5e-4072-a1b7-e08b5bd979c3"
      },
      "outputs": [
        {
          "output_type": "error",
          "ename": "SyntaxError",
          "evalue": "ignored",
          "traceback": [
            "\u001b[0;36m  File \u001b[0;32m\"<ipython-input-1-e016488f490e>\"\u001b[0;36m, line \u001b[0;32m8\u001b[0m\n\u001b[0;31m    s.bind((”,33333))\u001b[0m\n\u001b[0m            ^\u001b[0m\n\u001b[0;31mSyntaxError\u001b[0m\u001b[0;31m:\u001b[0m invalid character in identifier\n"
          ]
        }
      ],
      "source": [
        "import socket\n",
        "import threading\n",
        "import re\n",
        "#import Tkinter\n",
        "\n",
        "def ser():\n",
        "    s=socket.socket(socket.AF_INET,socket.SOCK_STREAM)\n",
        "    s.bind((”,33333))\n",
        "    s.listen(1)\n",
        "    conn,addr=s.accept()\n",
        "    while True:\n",
        "        print ‘[%s:%d] send a message to me: %s’%(addr[0],addr[1],conn.recv(1024))\n",
        "    s.close()\n",
        "\n",
        "def clt():\n",
        "    c=socket.socket(socket.AF_INET,socket.SOCK_STREAM)\n",
        "    ip_pattern=re.compile(r’^(\\d{1,2}|1\\d\\d|2[0-4]\\d|25[0-5])\\.(\\d{1,2}|1\\d\\d|2[0-4]\\d|25[0-5])\\.(\\d{1,2}|1\\d\\d|2[0-4]\\d|25[0-5])\\.(\\d{1,2}|1\\d\\d|2[0-4]\\d|25[0-5])$’)\n",
        "    while True:\n",
        "        ip=raw_input(‘Input the Server\\’s IPv4 address:’)\n",
        "        ip_match=ip_pattern.match(ip)\n",
        "        if ip_match:\n",
        "            break\n",
        "    c.connect((ip,33333))\n",
        "    while True:\n",
        "        sms=raw_input(‘Input the message you want to send:’)\n",
        "        c.sendall(sms)\n",
        "    c.close()\n",
        "\n",
        "if __name__==”__main__”:\n",
        "    ser=threading.Thread(target=ser)\n",
        "    clt=threading.Thread(target=clt)\n",
        "    ser.start()\n",
        "    clt.start()\n",
        "    ser.join()\n",
        "    clt.join()\n",
        "\n"
      ]
    },
    {
      "cell_type": "code",
      "source": [
        ""
      ],
      "metadata": {
        "id": "rZCJpxhCkzCu"
      },
      "execution_count": null,
      "outputs": []
    }
  ]
}