{
  "nbformat": 4,
  "nbformat_minor": 0,
  "metadata": {
    "colab": {
      "name": "Untitled15.ipynb",
      "provenance": [],
      "authorship_tag": "ABX9TyMfHeUQEw0PzAyDVtpvgaCQ",
      "include_colab_link": true
    },
    "kernelspec": {
      "name": "python3",
      "display_name": "Python 3"
    },
    "language_info": {
      "name": "python"
    }
  },
  "cells": [
    {
      "cell_type": "markdown",
      "metadata": {
        "id": "view-in-github",
        "colab_type": "text"
      },
      "source": [
        "<a href=\"https://colab.research.google.com/github/4070E001-le/S107000660-/blob/main/%E7%A8%8B%E5%BC%8F%E7%A2%BC.ipynb\" target=\"_parent\"><img src=\"https://colab.research.google.com/assets/colab-badge.svg\" alt=\"Open In Colab\"/></a>"
      ]
    },
    {
      "cell_type": "code",
      "execution_count": 1,
      "metadata": {
        "colab": {
          "base_uri": "https://localhost:8080/",
          "height": 132
        },
        "id": "sBdoyyprlMyb",
        "outputId": "d14351a6-cff8-4b88-f31d-bee10d78dc83"
      },
      "outputs": [
        {
          "output_type": "error",
          "ename": "SyntaxError",
          "evalue": "ignored",
          "traceback": [
            "\u001b[0;36m  File \u001b[0;32m\"<ipython-input-1-528915652a12>\"\u001b[0;36m, line \u001b[0;32m17\u001b[0m\n\u001b[0;31m    print buildConnectionString(myParams)\u001b[0m\n\u001b[0m                              ^\u001b[0m\n\u001b[0;31mSyntaxError\u001b[0m\u001b[0;31m:\u001b[0m invalid syntax\n"
          ]
        }
      ],
      "source": [
        "__author__ = \"Mark Pilgrim (mark@diveintopython.org)\"\n",
        "__version__ = \"$Revision: 1.2 $\"\n",
        "__date__ = \"$Date: 2004/05/05 21:57:19 $\"\n",
        "__copyright__ = \"Copyright (c) 2001 Mark Pilgrim\"\n",
        "__license__ = \"Python\"\n",
        "\n",
        "def buildConnectionString(params):\n",
        "\t\"\"\"Build a connection string from a dictionary\n",
        "\t\n",
        "\tReturns string.\n",
        "\t\"\"\"\n",
        "\treturn \";\".join([\"%s=%s\" % (k, v) for k, v in params.items()])\n",
        "\n",
        "if __name__ == \"__main__\":\n",
        "\tmyParams = {\"server\":\"mpilgrim\", \\\n",
        "\t\t\t\t\"database\":\"master\", \\\n",
        "\t\t\t\t\"uid\":\"sa\", \\\n",
        "\t\t\t\t\"pwd\":\"secret\"\n",
        "\t\t\t\t}\n",
        "\tprint buildConnectionString(myParams)"
      ]
    }
  ]
}