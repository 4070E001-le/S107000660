{
  "nbformat": 4,
  "nbformat_minor": 0,
  "metadata": {
    "colab": {
      "name": "Untitled6.ipynb",
      "provenance": [],
      "authorship_tag": "ABX9TyOxY4Pi8B0wyWuHkhyzkSZ4",
      "include_colab_link": true
    },
    "kernelspec": {
      "name": "python3",
      "display_name": "Python 3"
    },
    "language_info": {
      "name": "python"
    }
  },
  "cells": [
    {
      "cell_type": "markdown",
      "metadata": {
        "id": "view-in-github",
        "colab_type": "text"
      },
      "source": [
        "<a href=\"https://colab.research.google.com/github/4070E001-le/S107000660-/blob/main/Untitled6.ipynb\" target=\"_parent\"><img src=\"https://colab.research.google.com/assets/colab-badge.svg\" alt=\"Open In Colab\"/></a>"
      ]
    },
    {
      "cell_type": "code",
      "metadata": {
        "colab": {
          "base_uri": "https://localhost:8080/"
        },
        "id": "hOh1HgPirnN2",
        "outputId": "e91a7e83-033e-4610-99f8-89e1651acd78"
      },
      "source": [
        "import random\n",
        "rang1 = int(input(\"請設定本局遊戲的最小值:\"))\n",
        "rang2 = int(input(\"請設定本局遊戲的最大值:\"))\n",
        "num = random.randint(rang1,rang2)\n",
        "guess = \"guess\"\n",
        "print(\"數字猜謎遊戲！\")\n",
        "i = 0\n",
        "while guess != num:\n",
        "    i += 1\n",
        "    guess = int(input(\"請輸入你猜的數字：\"))\n",
        "\n",
        "    if guess == num:\n",
        "        print(\"恭喜，你猜對了！\")\n",
        "    elif guess < num:\n",
        "        print(\"你猜的數小了...\")\n",
        "    else:\n",
        "        print(\"你猜的數大了...\")\n",
        "\n",
        "print(\"你總共猜了%d\" %i + \"次\",end = '')\n",
        "print(\",快和你朋友較量一下...\")"
      ],
      "execution_count": 2,
      "outputs": [
        {
          "output_type": "stream",
          "name": "stdout",
          "text": [
            "請設定本局遊戲的最小值:0\n",
            "請設定本局遊戲的最大值:100\n",
            "數字猜謎遊戲！\n",
            "請輸入你猜的數字：55\n",
            "你猜的數大了...\n",
            "請輸入你猜的數字：20\n",
            "你猜的數小了...\n",
            "請輸入你猜的數字：40\n",
            "你猜的數大了...\n",
            "請輸入你猜的數字：35\n",
            "你猜的數小了...\n",
            "請輸入你猜的數字：38\n",
            "你猜的數大了...\n",
            "請輸入你猜的數字：37\n",
            "恭喜，你猜對了！\n",
            "你總共猜了6次,快和你朋友較量一下...\n"
          ]
        }
      ]
    },
    {
      "cell_type": "code",
      "metadata": {
        "colab": {
          "base_uri": "https://localhost:8080/"
        },
        "id": "vYqkohq6vIQD",
        "outputId": "07f86dbc-4768-4032-f0e8-092114e64de4"
      },
      "source": [
        "print(\"HI\")"
      ],
      "execution_count": 7,
      "outputs": [
        {
          "output_type": "stream",
          "name": "stdout",
          "text": [
            "HI\n"
          ]
        }
      ]
    }
  ]
}